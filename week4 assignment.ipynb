{
    "cells": [
        {
            "cell_type": "markdown",
            "metadata": {
                "collapsed": true
            },
            "source": "# Course9 Week4 Assignment"
        },
        {
            "cell_type": "markdown",
            "metadata": {},
            "source": "## Comparison of London and Paris"
        },
        {
            "cell_type": "markdown",
            "metadata": {},
            "source": "### 0. Preparation"
        },
        {
            "cell_type": "code",
            "execution_count": 1,
            "metadata": {},
            "outputs": [
                {
                    "name": "stdout",
                    "output_type": "stream",
                    "text": "Collecting folium==0.5.0\n  Downloading folium-0.5.0.tar.gz (79 kB)\n\u001b[K     |\u2588\u2588\u2588\u2588\u2588\u2588\u2588\u2588\u2588\u2588\u2588\u2588\u2588\u2588\u2588\u2588\u2588\u2588\u2588\u2588\u2588\u2588\u2588\u2588\u2588\u2588\u2588\u2588\u2588\u2588\u2588\u2588| 79 kB 10.9 MB/s eta 0:00:01\n\u001b[?25hCollecting branca\n  Downloading branca-0.4.2-py3-none-any.whl (24 kB)\nRequirement already satisfied: jinja2 in /opt/conda/envs/Python-3.7-main/lib/python3.7/site-packages (from folium==0.5.0) (2.11.2)\nRequirement already satisfied: requests in /opt/conda/envs/Python-3.7-main/lib/python3.7/site-packages (from folium==0.5.0) (2.24.0)\nRequirement already satisfied: six in /opt/conda/envs/Python-3.7-main/lib/python3.7/site-packages (from folium==0.5.0) (1.15.0)\nRequirement already satisfied: MarkupSafe>=0.23 in /opt/conda/envs/Python-3.7-main/lib/python3.7/site-packages (from jinja2->folium==0.5.0) (1.1.1)\nRequirement already satisfied: chardet<4,>=3.0.2 in /opt/conda/envs/Python-3.7-main/lib/python3.7/site-packages (from requests->folium==0.5.0) (3.0.4)\nRequirement already satisfied: idna<3,>=2.5 in /opt/conda/envs/Python-3.7-main/lib/python3.7/site-packages (from requests->folium==0.5.0) (2.9)\nRequirement already satisfied: urllib3!=1.25.0,!=1.25.1,<1.26,>=1.21.1 in /opt/conda/envs/Python-3.7-main/lib/python3.7/site-packages (from requests->folium==0.5.0) (1.25.9)\nRequirement already satisfied: certifi>=2017.4.17 in /opt/conda/envs/Python-3.7-main/lib/python3.7/site-packages (from requests->folium==0.5.0) (2020.12.5)\nBuilding wheels for collected packages: folium\n  Building wheel for folium (setup.py) ... \u001b[?25ldone\n\u001b[?25h  Created wheel for folium: filename=folium-0.5.0-py3-none-any.whl size=76240 sha256=dde9b6f200bd2cbd00be8c9d02e3b4ce6286d26fb978670a2f5ea57625845edc\n  Stored in directory: /tmp/wsuser/.cache/pip/wheels/b2/2f/2c/109e446b990d663ea5ce9b078b5e7c1a9c45cca91f377080f8\nSuccessfully built folium\nInstalling collected packages: branca, folium\nSuccessfully installed branca-0.4.2 folium-0.5.0\ninstallation is done\n"
                }
            ],
            "source": "#import library\nimport numpy as np\nimport pandas as pd\nimport json\nimport requests\nimport matplotlib.cm as cm\nimport matplotlib.colors as colors\n! pip install folium==0.5.0\nimport folium # plotting library\nfrom sklearn.cluster import KMeans\nprint('installation is done')"
        },
        {
            "cell_type": "code",
            "execution_count": 130,
            "metadata": {},
            "outputs": [
                {
                    "name": "stderr",
                    "output_type": "stream",
                    "text": "/opt/conda/envs/Python-3.7-main/lib/python3.7/site-packages/arcgis/features/_data/geodataset/utils.py:16: FutureWarning: The pandas.datetime class is deprecated and will be removed from pandas in a future version. Import from datetime module instead.\n  pd.datetime,\n"
                },
                {
                    "name": "stdout",
                    "output_type": "stream",
                    "text": "imported\n"
                }
            ],
            "source": "from arcgis.geocoding import geocode\nfrom arcgis.gis import GIS\ngis = GIS()\nprint('imported')"
        },
        {
            "cell_type": "code",
            "execution_count": 2,
            "metadata": {},
            "outputs": [
                {
                    "name": "stderr",
                    "output_type": "stream",
                    "text": "/opt/conda/envs/Python-3.7-main/lib/python3.7/site-packages/sklearn/utils/deprecation.py:143: FutureWarning: The sklearn.datasets.samples_generator module is  deprecated in version 0.22 and will be removed in version 0.24. The corresponding classes / functions should instead be imported from sklearn.datasets. Anything that cannot be imported from sklearn.datasets is now part of the private API.\n  warnings.warn(message, FutureWarning)\n"
                }
            ],
            "source": "import matplotlib.pyplot as plt # plotting library\n# backend for rendering plots within the browser\n%matplotlib inline  \nfrom sklearn.datasets.samples_generator import make_blobs"
        },
        {
            "cell_type": "code",
            "execution_count": 3,
            "metadata": {},
            "outputs": [
                {
                    "name": "stdout",
                    "output_type": "stream",
                    "text": "Requirement already satisfied: geopy in /opt/conda/envs/Python-3.7-main/lib/python3.7/site-packages (2.0.0)\r\nRequirement already satisfied: geographiclib<2,>=1.49 in /opt/conda/envs/Python-3.7-main/lib/python3.7/site-packages (from geopy) (1.50)\r\n"
                }
            ],
            "source": "!pip install geopy\nfrom geopy.geocoders import Nominatim # module to convert an address into latitude and longitude values\n\n# libraries for displaying images\nfrom IPython.display import Image \nfrom IPython.core.display import HTML \n    \n# tranforming json file into a pandas dataframe library\nfrom pandas.io.json import json_normalize"
        },
        {
            "cell_type": "code",
            "execution_count": 4,
            "metadata": {},
            "outputs": [
                {
                    "name": "stdout",
                    "output_type": "stream",
                    "text": "Your credentails:\nCLIENT_ID: LNK1UWBA5Y01WH44DTFMCGT4DZ4NLWOEP5YOFVYXGLGROD5Z\nCLIENT_SECRET:Y0XT5AJR0SBKSBFEPZWR252RFSEV1INHGMOBOVSJ001ZDNOG\n"
                }
            ],
            "source": "#Define FourSquare Credentials and Version\nCLIENT_ID = 'LNK1UWBA5Y01WH44DTFMCGT4DZ4NLWOEP5YOFVYXGLGROD5Z' # your Foursquare ID\nCLIENT_SECRET = 'Y0XT5AJR0SBKSBFEPZWR252RFSEV1INHGMOBOVSJ001ZDNOG' # your Foursquare Secret\nACCESS_TOKEN = '23OW2MCXF0NG4HKJCUJL1R1W2QQXHL13B00X2BKKYCQJSIEK' # your FourSquare Access Token\n#(copied from server as a note: access_token\"23OW2MCXF0NG4HKJCUJL1R1W2QQXHL13B00X2BKKYCQJSIEK\")\nVERSION = '20180604'\nLIMIT = 30\nprint('Your credentails:')\nprint('CLIENT_ID: ' + CLIENT_ID)\nprint('CLIENT_SECRET:' + CLIENT_SECRET)"
        },
        {
            "cell_type": "code",
            "execution_count": 45,
            "metadata": {},
            "outputs": [],
            "source": "#link to London data\nurl_london = 'https://en.wikipedia.org/wiki/List_of_areas_of_London'\n\n#link to Paris data\nurl_paris = 'https://www.data.gouv.fr/fr/datasets/r/e88c6fda-1d09-42a0-a069-606d3259114e'"
        },
        {
            "cell_type": "markdown",
            "metadata": {},
            "source": "## 1. Download and Preprocessing Dataset"
        },
        {
            "cell_type": "code",
            "execution_count": 105,
            "metadata": {},
            "outputs": [
                {
                    "data": {
                        "text/html": "<div>\n<style scoped>\n    .dataframe tbody tr th:only-of-type {\n        vertical-align: middle;\n    }\n\n    .dataframe tbody tr th {\n        vertical-align: top;\n    }\n\n    .dataframe thead th {\n        text-align: right;\n    }\n</style>\n<table border=\"1\" class=\"dataframe\">\n  <thead>\n    <tr style=\"text-align: right;\">\n      <th></th>\n      <th>Location</th>\n      <th>London\u00a0borough</th>\n      <th>Post town</th>\n      <th>Postcode\u00a0district</th>\n      <th>Dial\u00a0code</th>\n      <th>OS grid ref</th>\n    </tr>\n  </thead>\n  <tbody>\n    <tr>\n      <th>0</th>\n      <td>Abbey Wood</td>\n      <td>Bexley, Greenwich [7]</td>\n      <td>LONDON</td>\n      <td>SE2</td>\n      <td>020</td>\n      <td>TQ465785</td>\n    </tr>\n    <tr>\n      <th>1</th>\n      <td>Acton</td>\n      <td>Ealing, Hammersmith and Fulham[8]</td>\n      <td>LONDON</td>\n      <td>W3, W4</td>\n      <td>020</td>\n      <td>TQ205805</td>\n    </tr>\n    <tr>\n      <th>2</th>\n      <td>Addington</td>\n      <td>Croydon[8]</td>\n      <td>CROYDON</td>\n      <td>CR0</td>\n      <td>020</td>\n      <td>TQ375645</td>\n    </tr>\n    <tr>\n      <th>3</th>\n      <td>Addiscombe</td>\n      <td>Croydon[8]</td>\n      <td>CROYDON</td>\n      <td>CR0</td>\n      <td>020</td>\n      <td>TQ345665</td>\n    </tr>\n    <tr>\n      <th>4</th>\n      <td>Albany Park</td>\n      <td>Bexley</td>\n      <td>BEXLEY, SIDCUP</td>\n      <td>DA5, DA14</td>\n      <td>020</td>\n      <td>TQ478728</td>\n    </tr>\n    <tr>\n      <th>...</th>\n      <td>...</td>\n      <td>...</td>\n      <td>...</td>\n      <td>...</td>\n      <td>...</td>\n      <td>...</td>\n    </tr>\n    <tr>\n      <th>526</th>\n      <td>Woolwich</td>\n      <td>Greenwich</td>\n      <td>LONDON</td>\n      <td>SE18</td>\n      <td>020</td>\n      <td>TQ435795</td>\n    </tr>\n    <tr>\n      <th>527</th>\n      <td>Worcester Park</td>\n      <td>Sutton, Kingston upon Thames</td>\n      <td>WORCESTER PARK</td>\n      <td>KT4</td>\n      <td>020</td>\n      <td>TQ225655</td>\n    </tr>\n    <tr>\n      <th>528</th>\n      <td>Wormwood Scrubs</td>\n      <td>Hammersmith and Fulham</td>\n      <td>LONDON</td>\n      <td>W12</td>\n      <td>020</td>\n      <td>TQ225815</td>\n    </tr>\n    <tr>\n      <th>529</th>\n      <td>Yeading</td>\n      <td>Hillingdon</td>\n      <td>HAYES</td>\n      <td>UB4</td>\n      <td>020</td>\n      <td>TQ115825</td>\n    </tr>\n    <tr>\n      <th>530</th>\n      <td>Yiewsley</td>\n      <td>Hillingdon</td>\n      <td>WEST DRAYTON</td>\n      <td>UB7</td>\n      <td>020</td>\n      <td>TQ063804</td>\n    </tr>\n  </tbody>\n</table>\n<p>531 rows \u00d7 6 columns</p>\n</div>",
                        "text/plain": "            Location                     London\u00a0borough       Post town  \\\n0         Abbey Wood              Bexley, Greenwich [7]          LONDON   \n1              Acton  Ealing, Hammersmith and Fulham[8]          LONDON   \n2          Addington                         Croydon[8]         CROYDON   \n3         Addiscombe                         Croydon[8]         CROYDON   \n4        Albany Park                             Bexley  BEXLEY, SIDCUP   \n..               ...                                ...             ...   \n526         Woolwich                          Greenwich          LONDON   \n527   Worcester Park       Sutton, Kingston upon Thames  WORCESTER PARK   \n528  Wormwood Scrubs             Hammersmith and Fulham          LONDON   \n529          Yeading                         Hillingdon           HAYES   \n530         Yiewsley                         Hillingdon    WEST DRAYTON   \n\n    Postcode\u00a0district Dial\u00a0code OS grid ref  \n0                 SE2       020    TQ465785  \n1              W3, W4       020    TQ205805  \n2                 CR0       020    TQ375645  \n3                 CR0       020    TQ345665  \n4           DA5, DA14       020    TQ478728  \n..                ...       ...         ...  \n526              SE18       020    TQ435795  \n527               KT4       020    TQ225655  \n528               W12       020    TQ225815  \n529               UB4       020    TQ115825  \n530               UB7       020    TQ063804  \n\n[531 rows x 6 columns]"
                    },
                    "execution_count": 105,
                    "metadata": {},
                    "output_type": "execute_result"
                }
            ],
            "source": "#scrape data of London\nlondon_url = requests.get(url_london)\nlondon_data = pd.read_html(london_url.text)\nlondon_data = london_data[1]\nlondon_data"
        },
        {
            "cell_type": "code",
            "execution_count": 106,
            "metadata": {},
            "outputs": [
                {
                    "data": {
                        "text/plain": "Index(['Location', 'London\u00a0borough', 'Post town', 'Postcode\u00a0district',\n       'Dial\u00a0code', 'OS grid ref'],\n      dtype='object')"
                    },
                    "execution_count": 106,
                    "metadata": {},
                    "output_type": "execute_result"
                }
            ],
            "source": "london_data.columns"
        },
        {
            "cell_type": "code",
            "execution_count": 107,
            "metadata": {},
            "outputs": [
                {
                    "data": {
                        "text/plain": "'OS grid ref'"
                    },
                    "execution_count": 107,
                    "metadata": {},
                    "output_type": "execute_result"
                }
            ],
            "source": "london_data.columns[5]"
        },
        {
            "cell_type": "code",
            "execution_count": 108,
            "metadata": {},
            "outputs": [
                {
                    "data": {
                        "text/html": "<div>\n<style scoped>\n    .dataframe tbody tr th:only-of-type {\n        vertical-align: middle;\n    }\n\n    .dataframe tbody tr th {\n        vertical-align: top;\n    }\n\n    .dataframe thead th {\n        text-align: right;\n    }\n</style>\n<table border=\"1\" class=\"dataframe\">\n  <thead>\n    <tr style=\"text-align: right;\">\n      <th></th>\n      <th>Location</th>\n      <th>Borough</th>\n      <th>Post_town</th>\n      <th>Postcode_district</th>\n      <th>Dial_code</th>\n      <th>OS_grid_ref</th>\n    </tr>\n  </thead>\n  <tbody>\n    <tr>\n      <th>0</th>\n      <td>Abbey Wood</td>\n      <td>Bexley, Greenwich [7]</td>\n      <td>LONDON</td>\n      <td>SE2</td>\n      <td>020</td>\n      <td>TQ465785</td>\n    </tr>\n    <tr>\n      <th>1</th>\n      <td>Acton</td>\n      <td>Ealing, Hammersmith and Fulham[8]</td>\n      <td>LONDON</td>\n      <td>W3, W4</td>\n      <td>020</td>\n      <td>TQ205805</td>\n    </tr>\n    <tr>\n      <th>2</th>\n      <td>Addington</td>\n      <td>Croydon[8]</td>\n      <td>CROYDON</td>\n      <td>CR0</td>\n      <td>020</td>\n      <td>TQ375645</td>\n    </tr>\n    <tr>\n      <th>3</th>\n      <td>Addiscombe</td>\n      <td>Croydon[8]</td>\n      <td>CROYDON</td>\n      <td>CR0</td>\n      <td>020</td>\n      <td>TQ345665</td>\n    </tr>\n    <tr>\n      <th>4</th>\n      <td>Albany Park</td>\n      <td>Bexley</td>\n      <td>BEXLEY, SIDCUP</td>\n      <td>DA5, DA14</td>\n      <td>020</td>\n      <td>TQ478728</td>\n    </tr>\n    <tr>\n      <th>...</th>\n      <td>...</td>\n      <td>...</td>\n      <td>...</td>\n      <td>...</td>\n      <td>...</td>\n      <td>...</td>\n    </tr>\n    <tr>\n      <th>526</th>\n      <td>Woolwich</td>\n      <td>Greenwich</td>\n      <td>LONDON</td>\n      <td>SE18</td>\n      <td>020</td>\n      <td>TQ435795</td>\n    </tr>\n    <tr>\n      <th>527</th>\n      <td>Worcester Park</td>\n      <td>Sutton, Kingston upon Thames</td>\n      <td>WORCESTER PARK</td>\n      <td>KT4</td>\n      <td>020</td>\n      <td>TQ225655</td>\n    </tr>\n    <tr>\n      <th>528</th>\n      <td>Wormwood Scrubs</td>\n      <td>Hammersmith and Fulham</td>\n      <td>LONDON</td>\n      <td>W12</td>\n      <td>020</td>\n      <td>TQ225815</td>\n    </tr>\n    <tr>\n      <th>529</th>\n      <td>Yeading</td>\n      <td>Hillingdon</td>\n      <td>HAYES</td>\n      <td>UB4</td>\n      <td>020</td>\n      <td>TQ115825</td>\n    </tr>\n    <tr>\n      <th>530</th>\n      <td>Yiewsley</td>\n      <td>Hillingdon</td>\n      <td>WEST DRAYTON</td>\n      <td>UB7</td>\n      <td>020</td>\n      <td>TQ063804</td>\n    </tr>\n  </tbody>\n</table>\n<p>531 rows \u00d7 6 columns</p>\n</div>",
                        "text/plain": "            Location                            Borough       Post_town  \\\n0         Abbey Wood              Bexley, Greenwich [7]          LONDON   \n1              Acton  Ealing, Hammersmith and Fulham[8]          LONDON   \n2          Addington                         Croydon[8]         CROYDON   \n3         Addiscombe                         Croydon[8]         CROYDON   \n4        Albany Park                             Bexley  BEXLEY, SIDCUP   \n..               ...                                ...             ...   \n526         Woolwich                          Greenwich          LONDON   \n527   Worcester Park       Sutton, Kingston upon Thames  WORCESTER PARK   \n528  Wormwood Scrubs             Hammersmith and Fulham          LONDON   \n529          Yeading                         Hillingdon           HAYES   \n530         Yiewsley                         Hillingdon    WEST DRAYTON   \n\n    Postcode_district Dial_code OS_grid_ref  \n0                 SE2       020    TQ465785  \n1              W3, W4       020    TQ205805  \n2                 CR0       020    TQ375645  \n3                 CR0       020    TQ345665  \n4           DA5, DA14       020    TQ478728  \n..                ...       ...         ...  \n526              SE18       020    TQ435795  \n527               KT4       020    TQ225655  \n528               W12       020    TQ225815  \n529               UB4       020    TQ115825  \n530               UB7       020    TQ063804  \n\n[531 rows x 6 columns]"
                    },
                    "execution_count": 108,
                    "metadata": {},
                    "output_type": "execute_result"
                }
            ],
            "source": "#rename\nlondon_data.rename(columns={'London\\xa0borough':'Borough'}, inplace=True)\nlondon_data.rename(columns={'Post town':'Post_town'}, inplace=True)\nlondon_data.rename(columns={'Postcode\\xa0district':'Postcode_district'}, inplace=True)\nlondon_data.rename(columns={'Dial\\xa0code':'Dial_code'}, inplace=True)\nlondon_data.rename(columns={'OS grid ref':'OS_grid_ref'}, inplace=True)\nlondon_data"
        },
        {
            "cell_type": "code",
            "execution_count": 109,
            "metadata": {},
            "outputs": [],
            "source": "#drop unnecessary columns\nlondon_data2 = london_data.drop( [london_data.columns[0], london_data.columns[4], london_data.columns[5] ], axis=1, inplace=True)\nlondon_data2 = london_data"
        },
        {
            "cell_type": "code",
            "execution_count": 123,
            "metadata": {},
            "outputs": [
                {
                    "data": {
                        "text/html": "<div>\n<style scoped>\n    .dataframe tbody tr th:only-of-type {\n        vertical-align: middle;\n    }\n\n    .dataframe tbody tr th {\n        vertical-align: top;\n    }\n\n    .dataframe thead th {\n        text-align: right;\n    }\n</style>\n<table border=\"1\" class=\"dataframe\">\n  <thead>\n    <tr style=\"text-align: right;\">\n      <th></th>\n      <th>Borough</th>\n      <th>Post_town</th>\n      <th>Postcode_district</th>\n    </tr>\n  </thead>\n  <tbody>\n    <tr>\n      <th>0</th>\n      <td>Bexley, Greenwich [7]</td>\n      <td>LONDON</td>\n      <td>SE2</td>\n    </tr>\n    <tr>\n      <th>1</th>\n      <td>Ealing, Hammersmith and Fulham[8]</td>\n      <td>LONDON</td>\n      <td>W3, W4</td>\n    </tr>\n    <tr>\n      <th>2</th>\n      <td>Croydon[8]</td>\n      <td>CROYDON</td>\n      <td>CR0</td>\n    </tr>\n    <tr>\n      <th>3</th>\n      <td>Croydon[8]</td>\n      <td>CROYDON</td>\n      <td>CR0</td>\n    </tr>\n    <tr>\n      <th>4</th>\n      <td>Bexley</td>\n      <td>BEXLEY, SIDCUP</td>\n      <td>DA5, DA14</td>\n    </tr>\n    <tr>\n      <th>...</th>\n      <td>...</td>\n      <td>...</td>\n      <td>...</td>\n    </tr>\n    <tr>\n      <th>526</th>\n      <td>Greenwich</td>\n      <td>LONDON</td>\n      <td>SE18</td>\n    </tr>\n    <tr>\n      <th>527</th>\n      <td>Sutton, Kingston upon Thames</td>\n      <td>WORCESTER PARK</td>\n      <td>KT4</td>\n    </tr>\n    <tr>\n      <th>528</th>\n      <td>Hammersmith and Fulham</td>\n      <td>LONDON</td>\n      <td>W12</td>\n    </tr>\n    <tr>\n      <th>529</th>\n      <td>Hillingdon</td>\n      <td>HAYES</td>\n      <td>UB4</td>\n    </tr>\n    <tr>\n      <th>530</th>\n      <td>Hillingdon</td>\n      <td>WEST DRAYTON</td>\n      <td>UB7</td>\n    </tr>\n  </tbody>\n</table>\n<p>531 rows \u00d7 3 columns</p>\n</div>",
                        "text/plain": "                               Borough       Post_town Postcode_district\n0                Bexley, Greenwich [7]          LONDON               SE2\n1    Ealing, Hammersmith and Fulham[8]          LONDON            W3, W4\n2                           Croydon[8]         CROYDON               CR0\n3                           Croydon[8]         CROYDON               CR0\n4                               Bexley  BEXLEY, SIDCUP         DA5, DA14\n..                                 ...             ...               ...\n526                          Greenwich          LONDON              SE18\n527       Sutton, Kingston upon Thames  WORCESTER PARK               KT4\n528             Hammersmith and Fulham          LONDON               W12\n529                         Hillingdon           HAYES               UB4\n530                         Hillingdon    WEST DRAYTON               UB7\n\n[531 rows x 3 columns]"
                    },
                    "execution_count": 123,
                    "metadata": {},
                    "output_type": "execute_result"
                }
            ],
            "source": "london_data2"
        },
        {
            "cell_type": "code",
            "execution_count": 126,
            "metadata": {},
            "outputs": [],
            "source": "#remove non-London area\nlondon_data2 = london_data2[london_data2['Post_town'].str.contains('LONDON')]"
        },
        {
            "cell_type": "code",
            "execution_count": 118,
            "metadata": {},
            "outputs": [
                {
                    "name": "stdout",
                    "output_type": "stream",
                    "text": "Data downloaded\n"
                },
                {
                    "data": {
                        "text/html": "<div>\n<style scoped>\n    .dataframe tbody tr th:only-of-type {\n        vertical-align: middle;\n    }\n\n    .dataframe tbody tr th {\n        vertical-align: top;\n    }\n\n    .dataframe thead th {\n        text-align: right;\n    }\n</style>\n<table border=\"1\" class=\"dataframe\">\n  <thead>\n    <tr style=\"text-align: right;\">\n      <th></th>\n      <th>datasetid</th>\n      <th>recordid</th>\n      <th>fields</th>\n      <th>geometry</th>\n      <th>record_timestamp</th>\n    </tr>\n  </thead>\n  <tbody>\n    <tr>\n      <th>0</th>\n      <td>correspondances-code-insee-code-postal</td>\n      <td>2bf36b38314b6c39dfbcd09225f97fa532b1fc45</td>\n      <td>{'code_comm': '645', 'nom_dept': 'ESSONNE', 's...</td>\n      <td>{'type': 'Point', 'coordinates': [2.2517129721...</td>\n      <td>2016-09-21T00:29:06.175+02:00</td>\n    </tr>\n    <tr>\n      <th>1</th>\n      <td>correspondances-code-insee-code-postal</td>\n      <td>7ee82e74e059b443df18bb79fc5a19b1f05e5a88</td>\n      <td>{'code_comm': '133', 'nom_dept': 'SEINE-ET-MAR...</td>\n      <td>{'type': 'Point', 'coordinates': [3.0529405055...</td>\n      <td>2016-09-21T00:29:06.175+02:00</td>\n    </tr>\n    <tr>\n      <th>2</th>\n      <td>correspondances-code-insee-code-postal</td>\n      <td>e2cd3186f07286705ed482a10b6aebd9de633c81</td>\n      <td>{'code_comm': '378', 'nom_dept': 'ESSONNE', 's...</td>\n      <td>{'type': 'Point', 'coordinates': [2.1971816504...</td>\n      <td>2016-09-21T00:29:06.175+02:00</td>\n    </tr>\n    <tr>\n      <th>3</th>\n      <td>correspondances-code-insee-code-postal</td>\n      <td>868bf03527a1d0a9defe5cf4e6fa0a730d725699</td>\n      <td>{'code_comm': '243', 'nom_dept': 'SEINE-ET-MAR...</td>\n      <td>{'type': 'Point', 'coordinates': [2.7097808131...</td>\n      <td>2016-09-21T00:29:06.175+02:00</td>\n    </tr>\n    <tr>\n      <th>4</th>\n      <td>correspondances-code-insee-code-postal</td>\n      <td>21e809b1d4480333c8b6fe7addd8f3b06f343e2c</td>\n      <td>{'code_comm': '003', 'nom_dept': 'VAL-DE-MARNE...</td>\n      <td>{'type': 'Point', 'coordinates': [2.3335102498...</td>\n      <td>2016-09-21T00:29:06.175+02:00</td>\n    </tr>\n  </tbody>\n</table>\n</div>",
                        "text/plain": "                                datasetid  \\\n0  correspondances-code-insee-code-postal   \n1  correspondances-code-insee-code-postal   \n2  correspondances-code-insee-code-postal   \n3  correspondances-code-insee-code-postal   \n4  correspondances-code-insee-code-postal   \n\n                                   recordid  \\\n0  2bf36b38314b6c39dfbcd09225f97fa532b1fc45   \n1  7ee82e74e059b443df18bb79fc5a19b1f05e5a88   \n2  e2cd3186f07286705ed482a10b6aebd9de633c81   \n3  868bf03527a1d0a9defe5cf4e6fa0a730d725699   \n4  21e809b1d4480333c8b6fe7addd8f3b06f343e2c   \n\n                                              fields  \\\n0  {'code_comm': '645', 'nom_dept': 'ESSONNE', 's...   \n1  {'code_comm': '133', 'nom_dept': 'SEINE-ET-MAR...   \n2  {'code_comm': '378', 'nom_dept': 'ESSONNE', 's...   \n3  {'code_comm': '243', 'nom_dept': 'SEINE-ET-MAR...   \n4  {'code_comm': '003', 'nom_dept': 'VAL-DE-MARNE...   \n\n                                            geometry  \\\n0  {'type': 'Point', 'coordinates': [2.2517129721...   \n1  {'type': 'Point', 'coordinates': [3.0529405055...   \n2  {'type': 'Point', 'coordinates': [2.1971816504...   \n3  {'type': 'Point', 'coordinates': [2.7097808131...   \n4  {'type': 'Point', 'coordinates': [2.3335102498...   \n\n                record_timestamp  \n0  2016-09-21T00:29:06.175+02:00  \n1  2016-09-21T00:29:06.175+02:00  \n2  2016-09-21T00:29:06.175+02:00  \n3  2016-09-21T00:29:06.175+02:00  \n4  2016-09-21T00:29:06.175+02:00  "
                    },
                    "execution_count": 118,
                    "metadata": {},
                    "output_type": "execute_result"
                }
            ],
            "source": "#scrape data of Paris\n!wget -q -O 'france-data.json' https://www.data.gouv.fr/fr/datasets/r/e88c6fda-1d09-42a0-a069-606d3259114e\nprint('Data downloaded')\nparis_raw = pd.read_json('france-data.json')\nparis_raw.head()\n\n"
        },
        {
            "cell_type": "code",
            "execution_count": 119,
            "metadata": {},
            "outputs": [
                {
                    "data": {
                        "text/html": "<div>\n<style scoped>\n    .dataframe tbody tr th:only-of-type {\n        vertical-align: middle;\n    }\n\n    .dataframe tbody tr th {\n        vertical-align: top;\n    }\n\n    .dataframe thead th {\n        text-align: right;\n    }\n</style>\n<table border=\"1\" class=\"dataframe\">\n  <thead>\n    <tr style=\"text-align: right;\">\n      <th></th>\n      <th>code_arr</th>\n      <th>code_cant</th>\n      <th>code_comm</th>\n      <th>code_dept</th>\n      <th>code_reg</th>\n      <th>geo_point_2d</th>\n      <th>geo_shape</th>\n      <th>id_geofla</th>\n      <th>insee_com</th>\n      <th>nom_comm</th>\n      <th>nom_dept</th>\n      <th>nom_region</th>\n      <th>population</th>\n      <th>postal_code</th>\n      <th>statut</th>\n      <th>superficie</th>\n      <th>z_moyen</th>\n    </tr>\n  </thead>\n  <tbody>\n    <tr>\n      <th>0</th>\n      <td>3</td>\n      <td>03</td>\n      <td>645</td>\n      <td>91</td>\n      <td>11</td>\n      <td>[48.750443119964764, 2.251712972144151]</td>\n      <td>{'type': 'Polygon', 'coordinates': [[[2.238024...</td>\n      <td>16275</td>\n      <td>91645</td>\n      <td>VERRIERES-LE-BUISSON</td>\n      <td>ESSONNE</td>\n      <td>ILE-DE-FRANCE</td>\n      <td>15.5</td>\n      <td>91370</td>\n      <td>Commune simple</td>\n      <td>999.0</td>\n      <td>121.0</td>\n    </tr>\n    <tr>\n      <th>1</th>\n      <td>3</td>\n      <td>20</td>\n      <td>133</td>\n      <td>77</td>\n      <td>11</td>\n      <td>[48.41256065214989, 3.052940505560729]</td>\n      <td>{'type': 'Polygon', 'coordinates': [[[3.076046...</td>\n      <td>31428</td>\n      <td>77133</td>\n      <td>COURCELLES-EN-BASSEE</td>\n      <td>SEINE-ET-MARNE</td>\n      <td>ILE-DE-FRANCE</td>\n      <td>0.2</td>\n      <td>77126</td>\n      <td>Commune simple</td>\n      <td>1082.0</td>\n      <td>88.0</td>\n    </tr>\n    <tr>\n      <th>2</th>\n      <td>1</td>\n      <td>09</td>\n      <td>378</td>\n      <td>91</td>\n      <td>11</td>\n      <td>[48.52726809075556, 2.19718165044305]</td>\n      <td>{'type': 'Polygon', 'coordinates': [[[2.203466...</td>\n      <td>30975</td>\n      <td>91378</td>\n      <td>MAUCHAMPS</td>\n      <td>ESSONNE</td>\n      <td>ILE-DE-FRANCE</td>\n      <td>0.3</td>\n      <td>91730</td>\n      <td>Commune simple</td>\n      <td>313.0</td>\n      <td>150.0</td>\n    </tr>\n    <tr>\n      <th>3</th>\n      <td>5</td>\n      <td>14</td>\n      <td>243</td>\n      <td>77</td>\n      <td>11</td>\n      <td>[48.87307018579678, 2.7097808131278462]</td>\n      <td>{'type': 'Polygon', 'coordinates': [[[2.727542...</td>\n      <td>17000</td>\n      <td>77243</td>\n      <td>LAGNY-SUR-MARNE</td>\n      <td>SEINE-ET-MARNE</td>\n      <td>ILE-DE-FRANCE</td>\n      <td>20.2</td>\n      <td>77400</td>\n      <td>Chef-lieu canton</td>\n      <td>579.0</td>\n      <td>71.0</td>\n    </tr>\n    <tr>\n      <th>4</th>\n      <td>3</td>\n      <td>34</td>\n      <td>003</td>\n      <td>94</td>\n      <td>11</td>\n      <td>[48.80588035965699, 2.333510249842654]</td>\n      <td>{'type': 'Polygon', 'coordinates': [[[2.343851...</td>\n      <td>32123</td>\n      <td>94003</td>\n      <td>ARCUEIL</td>\n      <td>VAL-DE-MARNE</td>\n      <td>ILE-DE-FRANCE</td>\n      <td>19.5</td>\n      <td>94110</td>\n      <td>Chef-lieu canton</td>\n      <td>232.0</td>\n      <td>70.0</td>\n    </tr>\n  </tbody>\n</table>\n</div>",
                        "text/plain": "  code_arr code_cant code_comm code_dept code_reg  \\\n0        3        03       645        91       11   \n1        3        20       133        77       11   \n2        1        09       378        91       11   \n3        5        14       243        77       11   \n4        3        34       003        94       11   \n\n                              geo_point_2d  \\\n0  [48.750443119964764, 2.251712972144151]   \n1   [48.41256065214989, 3.052940505560729]   \n2    [48.52726809075556, 2.19718165044305]   \n3  [48.87307018579678, 2.7097808131278462]   \n4   [48.80588035965699, 2.333510249842654]   \n\n                                           geo_shape id_geofla insee_com  \\\n0  {'type': 'Polygon', 'coordinates': [[[2.238024...     16275     91645   \n1  {'type': 'Polygon', 'coordinates': [[[3.076046...     31428     77133   \n2  {'type': 'Polygon', 'coordinates': [[[2.203466...     30975     91378   \n3  {'type': 'Polygon', 'coordinates': [[[2.727542...     17000     77243   \n4  {'type': 'Polygon', 'coordinates': [[[2.343851...     32123     94003   \n\n               nom_comm        nom_dept     nom_region  population  \\\n0  VERRIERES-LE-BUISSON         ESSONNE  ILE-DE-FRANCE        15.5   \n1  COURCELLES-EN-BASSEE  SEINE-ET-MARNE  ILE-DE-FRANCE         0.2   \n2             MAUCHAMPS         ESSONNE  ILE-DE-FRANCE         0.3   \n3       LAGNY-SUR-MARNE  SEINE-ET-MARNE  ILE-DE-FRANCE        20.2   \n4               ARCUEIL    VAL-DE-MARNE  ILE-DE-FRANCE        19.5   \n\n  postal_code            statut  superficie  z_moyen  \n0       91370    Commune simple       999.0    121.0  \n1       77126    Commune simple      1082.0     88.0  \n2       91730    Commune simple       313.0    150.0  \n3       77400  Chef-lieu canton       579.0     71.0  \n4       94110  Chef-lieu canton       232.0     70.0  "
                    },
                    "execution_count": 119,
                    "metadata": {},
                    "output_type": "execute_result"
                }
            ],
            "source": "paris_data = pd.DataFrame()\nfor i in paris_raw.fields:\n    dict_new = i\n    paris_data = paris_data.append(dict_new, ignore_index=True)\n\nparis_data.head()\n\n"
        },
        {
            "cell_type": "code",
            "execution_count": 120,
            "metadata": {},
            "outputs": [
                {
                    "data": {
                        "text/html": "<div>\n<style scoped>\n    .dataframe tbody tr th:only-of-type {\n        vertical-align: middle;\n    }\n\n    .dataframe tbody tr th {\n        vertical-align: top;\n    }\n\n    .dataframe thead th {\n        text-align: right;\n    }\n</style>\n<table border=\"1\" class=\"dataframe\">\n  <thead>\n    <tr style=\"text-align: right;\">\n      <th></th>\n      <th>postal_code</th>\n      <th>nom_comm</th>\n      <th>nom_dept</th>\n      <th>geo_point_2d</th>\n    </tr>\n  </thead>\n  <tbody>\n    <tr>\n      <th>0</th>\n      <td>91370</td>\n      <td>VERRIERES-LE-BUISSON</td>\n      <td>ESSONNE</td>\n      <td>[48.750443119964764, 2.251712972144151]</td>\n    </tr>\n    <tr>\n      <th>1</th>\n      <td>77126</td>\n      <td>COURCELLES-EN-BASSEE</td>\n      <td>SEINE-ET-MARNE</td>\n      <td>[48.41256065214989, 3.052940505560729]</td>\n    </tr>\n    <tr>\n      <th>2</th>\n      <td>91730</td>\n      <td>MAUCHAMPS</td>\n      <td>ESSONNE</td>\n      <td>[48.52726809075556, 2.19718165044305]</td>\n    </tr>\n    <tr>\n      <th>3</th>\n      <td>77400</td>\n      <td>LAGNY-SUR-MARNE</td>\n      <td>SEINE-ET-MARNE</td>\n      <td>[48.87307018579678, 2.7097808131278462]</td>\n    </tr>\n    <tr>\n      <th>4</th>\n      <td>94110</td>\n      <td>ARCUEIL</td>\n      <td>VAL-DE-MARNE</td>\n      <td>[48.80588035965699, 2.333510249842654]</td>\n    </tr>\n    <tr>\n      <th>...</th>\n      <td>...</td>\n      <td>...</td>\n      <td>...</td>\n      <td>...</td>\n    </tr>\n    <tr>\n      <th>1295</th>\n      <td>77520</td>\n      <td>CESSOY-EN-MONTOIS</td>\n      <td>SEINE-ET-MARNE</td>\n      <td>[48.50730730461658, 3.138844194183689]</td>\n    </tr>\n    <tr>\n      <th>1296</th>\n      <td>93420</td>\n      <td>VILLEPINTE</td>\n      <td>SEINE-SAINT-DENIS</td>\n      <td>[48.95902025378707, 2.536306342059409]</td>\n    </tr>\n    <tr>\n      <th>1297</th>\n      <td>77130</td>\n      <td>CANNES-ECLUSE</td>\n      <td>SEINE-ET-MARNE</td>\n      <td>[48.36403767307805, 2.990786679832767]</td>\n    </tr>\n    <tr>\n      <th>1298</th>\n      <td>78930</td>\n      <td>VILLETTE</td>\n      <td>YVELINES</td>\n      <td>[48.92627887061508, 1.6937417245662671]</td>\n    </tr>\n    <tr>\n      <th>1299</th>\n      <td>95270</td>\n      <td>LE PLESSIS-LUZARCHES</td>\n      <td>VAL-D'OISE</td>\n      <td>[49.09572967201378, 2.4547564431234923]</td>\n    </tr>\n  </tbody>\n</table>\n<p>1300 rows \u00d7 4 columns</p>\n</div>",
                        "text/plain": "     postal_code              nom_comm           nom_dept  \\\n0          91370  VERRIERES-LE-BUISSON            ESSONNE   \n1          77126  COURCELLES-EN-BASSEE     SEINE-ET-MARNE   \n2          91730             MAUCHAMPS            ESSONNE   \n3          77400       LAGNY-SUR-MARNE     SEINE-ET-MARNE   \n4          94110               ARCUEIL       VAL-DE-MARNE   \n...          ...                   ...                ...   \n1295       77520     CESSOY-EN-MONTOIS     SEINE-ET-MARNE   \n1296       93420            VILLEPINTE  SEINE-SAINT-DENIS   \n1297       77130         CANNES-ECLUSE     SEINE-ET-MARNE   \n1298       78930              VILLETTE           YVELINES   \n1299       95270  LE PLESSIS-LUZARCHES         VAL-D'OISE   \n\n                                 geo_point_2d  \n0     [48.750443119964764, 2.251712972144151]  \n1      [48.41256065214989, 3.052940505560729]  \n2       [48.52726809075556, 2.19718165044305]  \n3     [48.87307018579678, 2.7097808131278462]  \n4      [48.80588035965699, 2.333510249842654]  \n...                                       ...  \n1295   [48.50730730461658, 3.138844194183689]  \n1296   [48.95902025378707, 2.536306342059409]  \n1297   [48.36403767307805, 2.990786679832767]  \n1298  [48.92627887061508, 1.6937417245662671]  \n1299  [49.09572967201378, 2.4547564431234923]  \n\n[1300 rows x 4 columns]"
                    },
                    "execution_count": 120,
                    "metadata": {},
                    "output_type": "execute_result"
                }
            ],
            "source": "#select the necessary columns\nparis_data2 = paris_data[['postal_code','nom_comm','nom_dept','geo_point_2d']]\nparis_data2"
        },
        {
            "cell_type": "code",
            "execution_count": 129,
            "metadata": {},
            "outputs": [
                {
                    "data": {
                        "text/html": "<div>\n<style scoped>\n    .dataframe tbody tr th:only-of-type {\n        vertical-align: middle;\n    }\n\n    .dataframe tbody tr th {\n        vertical-align: top;\n    }\n\n    .dataframe thead th {\n        text-align: right;\n    }\n</style>\n<table border=\"1\" class=\"dataframe\">\n  <thead>\n    <tr style=\"text-align: right;\">\n      <th></th>\n      <th>postal_code</th>\n      <th>nom_comm</th>\n      <th>nom_dept</th>\n      <th>geo_point_2d</th>\n    </tr>\n  </thead>\n  <tbody>\n    <tr>\n      <th>0</th>\n      <td>75009</td>\n      <td>PARIS-9E-ARRONDISSEMENT</td>\n      <td>PARIS</td>\n      <td>[48.87689616237872, 2.337460241388529]</td>\n    </tr>\n    <tr>\n      <th>1</th>\n      <td>75002</td>\n      <td>PARIS-2E-ARRONDISSEMENT</td>\n      <td>PARIS</td>\n      <td>[48.86790337886785, 2.344107166658533]</td>\n    </tr>\n    <tr>\n      <th>2</th>\n      <td>75011</td>\n      <td>PARIS-11E-ARRONDISSEMENT</td>\n      <td>PARIS</td>\n      <td>[48.85941549762748, 2.378741060237548]</td>\n    </tr>\n    <tr>\n      <th>3</th>\n      <td>75003</td>\n      <td>PARIS-3E-ARRONDISSEMENT</td>\n      <td>PARIS</td>\n      <td>[48.86305413181178, 2.359361058970589]</td>\n    </tr>\n    <tr>\n      <th>4</th>\n      <td>75006</td>\n      <td>PARIS-6E-ARRONDISSEMENT</td>\n      <td>PARIS</td>\n      <td>[48.84896809191946, 2.332670898588416]</td>\n    </tr>\n    <tr>\n      <th>5</th>\n      <td>75004</td>\n      <td>PARIS-4E-ARRONDISSEMENT</td>\n      <td>PARIS</td>\n      <td>[48.854228281954754, 2.357361938142205]</td>\n    </tr>\n    <tr>\n      <th>6</th>\n      <td>75001</td>\n      <td>PARIS-1ER-ARRONDISSEMENT</td>\n      <td>PARIS</td>\n      <td>[48.8626304851685, 2.336293446550539]</td>\n    </tr>\n    <tr>\n      <th>7</th>\n      <td>75017</td>\n      <td>PARIS-17E-ARRONDISSEMENT</td>\n      <td>PARIS</td>\n      <td>[48.88733716648682, 2.307485559493426]</td>\n    </tr>\n    <tr>\n      <th>8</th>\n      <td>75008</td>\n      <td>PARIS-8E-ARRONDISSEMENT</td>\n      <td>PARIS</td>\n      <td>[48.87252726662346, 2.312582560420059]</td>\n    </tr>\n    <tr>\n      <th>9</th>\n      <td>75013</td>\n      <td>PARIS-13E-ARRONDISSEMENT</td>\n      <td>PARIS</td>\n      <td>[48.82871768452136, 2.362468228516128]</td>\n    </tr>\n    <tr>\n      <th>10</th>\n      <td>75012</td>\n      <td>PARIS-12E-ARRONDISSEMENT</td>\n      <td>PARIS</td>\n      <td>[48.83515623066034, 2.419807034965275]</td>\n    </tr>\n    <tr>\n      <th>11</th>\n      <td>75005</td>\n      <td>PARIS-5E-ARRONDISSEMENT</td>\n      <td>PARIS</td>\n      <td>[48.844508659617546, 2.349859385560182]</td>\n    </tr>\n    <tr>\n      <th>12</th>\n      <td>75019</td>\n      <td>PARIS-19E-ARRONDISSEMENT</td>\n      <td>PARIS</td>\n      <td>[48.88686862295828, 2.384694327870042]</td>\n    </tr>\n    <tr>\n      <th>13</th>\n      <td>75020</td>\n      <td>PARIS-20E-ARRONDISSEMENT</td>\n      <td>PARIS</td>\n      <td>[48.86318677744551, 2.400819826729021]</td>\n    </tr>\n    <tr>\n      <th>14</th>\n      <td>75010</td>\n      <td>PARIS-10E-ARRONDISSEMENT</td>\n      <td>PARIS</td>\n      <td>[48.87602855694339, 2.361112904561707]</td>\n    </tr>\n    <tr>\n      <th>15</th>\n      <td>75016</td>\n      <td>PARIS-16E-ARRONDISSEMENT</td>\n      <td>PARIS</td>\n      <td>[48.86039876035177, 2.262099559395783]</td>\n    </tr>\n    <tr>\n      <th>16</th>\n      <td>75018</td>\n      <td>PARIS-18E-ARRONDISSEMENT</td>\n      <td>PARIS</td>\n      <td>[48.892735074561706, 2.348711933867703]</td>\n    </tr>\n    <tr>\n      <th>17</th>\n      <td>75007</td>\n      <td>PARIS-7E-ARRONDISSEMENT</td>\n      <td>PARIS</td>\n      <td>[48.85608259819694, 2.312438687733857]</td>\n    </tr>\n    <tr>\n      <th>18</th>\n      <td>75015</td>\n      <td>PARIS-15E-ARRONDISSEMENT</td>\n      <td>PARIS</td>\n      <td>[48.84015541860987, 2.293559372435076]</td>\n    </tr>\n    <tr>\n      <th>19</th>\n      <td>75014</td>\n      <td>PARIS-14E-ARRONDISSEMENT</td>\n      <td>PARIS</td>\n      <td>[48.82899321160942, 2.327100883257538]</td>\n    </tr>\n  </tbody>\n</table>\n</div>",
                        "text/plain": "   postal_code                  nom_comm nom_dept  \\\n0        75009   PARIS-9E-ARRONDISSEMENT    PARIS   \n1        75002   PARIS-2E-ARRONDISSEMENT    PARIS   \n2        75011  PARIS-11E-ARRONDISSEMENT    PARIS   \n3        75003   PARIS-3E-ARRONDISSEMENT    PARIS   \n4        75006   PARIS-6E-ARRONDISSEMENT    PARIS   \n5        75004   PARIS-4E-ARRONDISSEMENT    PARIS   \n6        75001  PARIS-1ER-ARRONDISSEMENT    PARIS   \n7        75017  PARIS-17E-ARRONDISSEMENT    PARIS   \n8        75008   PARIS-8E-ARRONDISSEMENT    PARIS   \n9        75013  PARIS-13E-ARRONDISSEMENT    PARIS   \n10       75012  PARIS-12E-ARRONDISSEMENT    PARIS   \n11       75005   PARIS-5E-ARRONDISSEMENT    PARIS   \n12       75019  PARIS-19E-ARRONDISSEMENT    PARIS   \n13       75020  PARIS-20E-ARRONDISSEMENT    PARIS   \n14       75010  PARIS-10E-ARRONDISSEMENT    PARIS   \n15       75016  PARIS-16E-ARRONDISSEMENT    PARIS   \n16       75018  PARIS-18E-ARRONDISSEMENT    PARIS   \n17       75007   PARIS-7E-ARRONDISSEMENT    PARIS   \n18       75015  PARIS-15E-ARRONDISSEMENT    PARIS   \n19       75014  PARIS-14E-ARRONDISSEMENT    PARIS   \n\n                               geo_point_2d  \n0    [48.87689616237872, 2.337460241388529]  \n1    [48.86790337886785, 2.344107166658533]  \n2    [48.85941549762748, 2.378741060237548]  \n3    [48.86305413181178, 2.359361058970589]  \n4    [48.84896809191946, 2.332670898588416]  \n5   [48.854228281954754, 2.357361938142205]  \n6     [48.8626304851685, 2.336293446550539]  \n7    [48.88733716648682, 2.307485559493426]  \n8    [48.87252726662346, 2.312582560420059]  \n9    [48.82871768452136, 2.362468228516128]  \n10   [48.83515623066034, 2.419807034965275]  \n11  [48.844508659617546, 2.349859385560182]  \n12   [48.88686862295828, 2.384694327870042]  \n13   [48.86318677744551, 2.400819826729021]  \n14   [48.87602855694339, 2.361112904561707]  \n15   [48.86039876035177, 2.262099559395783]  \n16  [48.892735074561706, 2.348711933867703]  \n17   [48.85608259819694, 2.312438687733857]  \n18   [48.84015541860987, 2.293559372435076]  \n19   [48.82899321160942, 2.327100883257538]  "
                    },
                    "execution_count": 129,
                    "metadata": {},
                    "output_type": "execute_result"
                }
            ],
            "source": "paris_data2 = paris_data2[paris_data2['nom_dept'].str.contains('PARIS')].reset_index(drop=True)\nparis_data2"
        },
        {
            "cell_type": "code",
            "execution_count": 134,
            "metadata": {},
            "outputs": [],
            "source": "#London geocode\ndef get_x_y_uk(address1):\n   lat_v = 0\n   lng_v = 0\n   g = geocode(address='{}, London, England, GBR'.format(address1))[0]\n   lng_v = g['location']['x']\n   lat_v = g['location']['y']\n   return str(lat_v) +\",\"+ str(lng_v)"
        },
        {
            "cell_type": "code",
            "execution_count": 138,
            "metadata": {},
            "outputs": [],
            "source": "#assign to zip code\n"
        },
        {
            "cell_type": "code",
            "execution_count": null,
            "metadata": {},
            "outputs": [],
            "source": "\n"
        },
        {
            "cell_type": "code",
            "execution_count": null,
            "metadata": {},
            "outputs": [],
            "source": ""
        }
    ],
    "metadata": {
        "kernelspec": {
            "display_name": "Python 3.7",
            "language": "python",
            "name": "python3"
        },
        "language_info": {
            "codemirror_mode": {
                "name": "ipython",
                "version": 3
            },
            "file_extension": ".py",
            "mimetype": "text/x-python",
            "name": "python",
            "nbconvert_exporter": "python",
            "pygments_lexer": "ipython3",
            "version": "3.7.9"
        }
    },
    "nbformat": 4,
    "nbformat_minor": 1
}